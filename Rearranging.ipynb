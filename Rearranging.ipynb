{
 "cells": [
  {
   "cell_type": "code",
   "execution_count": 74,
   "id": "f550ca3a-ebb2-4a62-8765-6f0d3a892f20",
   "metadata": {},
   "outputs": [
    {
     "name": "stdout",
     "output_type": "stream",
     "text": [
      "Unnamed: 0             int64\n",
      "Url                   object\n",
      "Preco                float64\n",
      "Titulo Imovel         object\n",
      "Endereço              object\n",
      "Area                 float64\n",
      "Numero de Quartos    float64\n",
      "dtype: object\n"
     ]
    }
   ],
   "source": [
    "import pandas as pd\n",
    "\n",
    "df = pd.read_csv(\"DataFrame_ML_Barra.csv\")\n",
    "df.head()\n",
    "\n",
    "print(df.dtypes)"
   ]
  },
  {
   "cell_type": "code",
   "execution_count": 48,
   "id": "763698d8-9cc5-4daf-b6e2-ddfcfd555456",
   "metadata": {},
   "outputs": [
    {
     "data": {
      "text/plain": [
       "Unnamed: 0             0\n",
       "Url                  164\n",
       "Preco                164\n",
       "Titulo Imovel        164\n",
       "Endereço             164\n",
       "Area                 164\n",
       "Numero de Quartos    165\n",
       "dtype: int64"
      ]
     },
     "execution_count": 48,
     "metadata": {},
     "output_type": "execute_result"
    }
   ],
   "source": [
    "df.isnull().sum()"
   ]
  },
  {
   "cell_type": "code",
   "execution_count": 49,
   "id": "be5252e3-5355-42e0-a174-dc76a02746f0",
   "metadata": {},
   "outputs": [
    {
     "data": {
      "text/html": [
       "<div>\n",
       "<style scoped>\n",
       "    .dataframe tbody tr th:only-of-type {\n",
       "        vertical-align: middle;\n",
       "    }\n",
       "\n",
       "    .dataframe tbody tr th {\n",
       "        vertical-align: top;\n",
       "    }\n",
       "\n",
       "    .dataframe thead th {\n",
       "        text-align: right;\n",
       "    }\n",
       "</style>\n",
       "<table border=\"1\" class=\"dataframe\">\n",
       "  <thead>\n",
       "    <tr style=\"text-align: right;\">\n",
       "      <th></th>\n",
       "      <th>Unnamed: 0</th>\n",
       "      <th>Url</th>\n",
       "      <th>Preco</th>\n",
       "      <th>Titulo Imovel</th>\n",
       "      <th>Endereço</th>\n",
       "      <th>Area</th>\n",
       "      <th>Numero de Quartos</th>\n",
       "    </tr>\n",
       "  </thead>\n",
       "  <tbody>\n",
       "    <tr>\n",
       "      <th>0</th>\n",
       "      <td>0</td>\n",
       "      <td>https://apartamento.mercadolivre.com.br/MLB-21...</td>\n",
       "      <td>1900000.0</td>\n",
       "      <td>Apartamento À Venda Em Rio De Janeiro - 46395</td>\n",
       "      <td>Rua Henrique De Moura Costa, Barra Da Tijuca, ...</td>\n",
       "      <td>169.0</td>\n",
       "      <td>3.0</td>\n",
       "    </tr>\n",
       "    <tr>\n",
       "      <th>1</th>\n",
       "      <td>1</td>\n",
       "      <td>https://apartamento.mercadolivre.com.br/MLB-20...</td>\n",
       "      <td>1922800.0</td>\n",
       "      <td>Cobertura Península Green Garden - Barra Da Ti...</td>\n",
       "      <td>Avenida Das Acácias Da Península, Barra Da Tij...</td>\n",
       "      <td>203.0</td>\n",
       "      <td>3.0</td>\n",
       "    </tr>\n",
       "    <tr>\n",
       "      <th>2</th>\n",
       "      <td>2</td>\n",
       "      <td>https://apartamento.mercadolivre.com.br/MLB-19...</td>\n",
       "      <td>4130000.0</td>\n",
       "      <td>Apartamento Com 3 Dormitórios À Venda, 170 M² ...</td>\n",
       "      <td>Avenida Lúcio Costa, Barra Da Tijuca, Rio De J...</td>\n",
       "      <td>170.0</td>\n",
       "      <td>3.0</td>\n",
       "    </tr>\n",
       "    <tr>\n",
       "      <th>3</th>\n",
       "      <td>3</td>\n",
       "      <td>https://apartamento.mercadolivre.com.br/MLB-20...</td>\n",
       "      <td>1350000.0</td>\n",
       "      <td>Apartamento Com 2 Dormitórios, 75 M² - Venda P...</td>\n",
       "      <td>Barra Da Tijuca, Rio De Janeiro Zona Oeste, Ri...</td>\n",
       "      <td>75.0</td>\n",
       "      <td>2.0</td>\n",
       "    </tr>\n",
       "    <tr>\n",
       "      <th>4</th>\n",
       "      <td>4</td>\n",
       "      <td>https://apartamento.mercadolivre.com.br/MLB-21...</td>\n",
       "      <td>3400000.0</td>\n",
       "      <td>Apartamento Duplex Com 3 Dormitórios À Venda, ...</td>\n",
       "      <td>Avenida Lúcio Costa, Barra Da Tijuca, Rio De J...</td>\n",
       "      <td>304.0</td>\n",
       "      <td>3.0</td>\n",
       "    </tr>\n",
       "  </tbody>\n",
       "</table>\n",
       "</div>"
      ],
      "text/plain": [
       "   Unnamed: 0                                                Url      Preco  \\\n",
       "0           0  https://apartamento.mercadolivre.com.br/MLB-21...  1900000.0   \n",
       "1           1  https://apartamento.mercadolivre.com.br/MLB-20...  1922800.0   \n",
       "2           2  https://apartamento.mercadolivre.com.br/MLB-19...  4130000.0   \n",
       "3           3  https://apartamento.mercadolivre.com.br/MLB-20...  1350000.0   \n",
       "4           4  https://apartamento.mercadolivre.com.br/MLB-21...  3400000.0   \n",
       "\n",
       "                                       Titulo Imovel  \\\n",
       "0      Apartamento À Venda Em Rio De Janeiro - 46395   \n",
       "1  Cobertura Península Green Garden - Barra Da Ti...   \n",
       "2  Apartamento Com 3 Dormitórios À Venda, 170 M² ...   \n",
       "3  Apartamento Com 2 Dormitórios, 75 M² - Venda P...   \n",
       "4  Apartamento Duplex Com 3 Dormitórios À Venda, ...   \n",
       "\n",
       "                                            Endereço   Area  Numero de Quartos  \n",
       "0  Rua Henrique De Moura Costa, Barra Da Tijuca, ...  169.0                3.0  \n",
       "1  Avenida Das Acácias Da Península, Barra Da Tij...  203.0                3.0  \n",
       "2  Avenida Lúcio Costa, Barra Da Tijuca, Rio De J...  170.0                3.0  \n",
       "3  Barra Da Tijuca, Rio De Janeiro Zona Oeste, Ri...   75.0                2.0  \n",
       "4  Avenida Lúcio Costa, Barra Da Tijuca, Rio De J...  304.0                3.0  "
      ]
     },
     "execution_count": 49,
     "metadata": {},
     "output_type": "execute_result"
    }
   ],
   "source": [
    "df.head()"
   ]
  },
  {
   "cell_type": "code",
   "execution_count": 50,
   "id": "3ae66bda-73d6-4902-bd10-8a4e9ef935e2",
   "metadata": {},
   "outputs": [],
   "source": [
    "df = df.drop(columns=['Unnamed: 0'])"
   ]
  },
  {
   "cell_type": "code",
   "execution_count": 51,
   "id": "54a70d7a-950e-490d-bbc0-891b5dbc2713",
   "metadata": {},
   "outputs": [
    {
     "data": {
      "text/html": [
       "<div>\n",
       "<style scoped>\n",
       "    .dataframe tbody tr th:only-of-type {\n",
       "        vertical-align: middle;\n",
       "    }\n",
       "\n",
       "    .dataframe tbody tr th {\n",
       "        vertical-align: top;\n",
       "    }\n",
       "\n",
       "    .dataframe thead th {\n",
       "        text-align: right;\n",
       "    }\n",
       "</style>\n",
       "<table border=\"1\" class=\"dataframe\">\n",
       "  <thead>\n",
       "    <tr style=\"text-align: right;\">\n",
       "      <th></th>\n",
       "      <th>Url</th>\n",
       "      <th>Preco</th>\n",
       "      <th>Titulo Imovel</th>\n",
       "      <th>Endereço</th>\n",
       "      <th>Area</th>\n",
       "      <th>Numero de Quartos</th>\n",
       "    </tr>\n",
       "  </thead>\n",
       "  <tbody>\n",
       "    <tr>\n",
       "      <th>0</th>\n",
       "      <td>https://apartamento.mercadolivre.com.br/MLB-21...</td>\n",
       "      <td>1900000.0</td>\n",
       "      <td>Apartamento À Venda Em Rio De Janeiro - 46395</td>\n",
       "      <td>Rua Henrique De Moura Costa, Barra Da Tijuca, ...</td>\n",
       "      <td>169.0</td>\n",
       "      <td>3.0</td>\n",
       "    </tr>\n",
       "    <tr>\n",
       "      <th>1</th>\n",
       "      <td>https://apartamento.mercadolivre.com.br/MLB-20...</td>\n",
       "      <td>1922800.0</td>\n",
       "      <td>Cobertura Península Green Garden - Barra Da Ti...</td>\n",
       "      <td>Avenida Das Acácias Da Península, Barra Da Tij...</td>\n",
       "      <td>203.0</td>\n",
       "      <td>3.0</td>\n",
       "    </tr>\n",
       "    <tr>\n",
       "      <th>2</th>\n",
       "      <td>https://apartamento.mercadolivre.com.br/MLB-19...</td>\n",
       "      <td>4130000.0</td>\n",
       "      <td>Apartamento Com 3 Dormitórios À Venda, 170 M² ...</td>\n",
       "      <td>Avenida Lúcio Costa, Barra Da Tijuca, Rio De J...</td>\n",
       "      <td>170.0</td>\n",
       "      <td>3.0</td>\n",
       "    </tr>\n",
       "    <tr>\n",
       "      <th>3</th>\n",
       "      <td>https://apartamento.mercadolivre.com.br/MLB-20...</td>\n",
       "      <td>1350000.0</td>\n",
       "      <td>Apartamento Com 2 Dormitórios, 75 M² - Venda P...</td>\n",
       "      <td>Barra Da Tijuca, Rio De Janeiro Zona Oeste, Ri...</td>\n",
       "      <td>75.0</td>\n",
       "      <td>2.0</td>\n",
       "    </tr>\n",
       "    <tr>\n",
       "      <th>4</th>\n",
       "      <td>https://apartamento.mercadolivre.com.br/MLB-21...</td>\n",
       "      <td>3400000.0</td>\n",
       "      <td>Apartamento Duplex Com 3 Dormitórios À Venda, ...</td>\n",
       "      <td>Avenida Lúcio Costa, Barra Da Tijuca, Rio De J...</td>\n",
       "      <td>304.0</td>\n",
       "      <td>3.0</td>\n",
       "    </tr>\n",
       "  </tbody>\n",
       "</table>\n",
       "</div>"
      ],
      "text/plain": [
       "                                                 Url      Preco  \\\n",
       "0  https://apartamento.mercadolivre.com.br/MLB-21...  1900000.0   \n",
       "1  https://apartamento.mercadolivre.com.br/MLB-20...  1922800.0   \n",
       "2  https://apartamento.mercadolivre.com.br/MLB-19...  4130000.0   \n",
       "3  https://apartamento.mercadolivre.com.br/MLB-20...  1350000.0   \n",
       "4  https://apartamento.mercadolivre.com.br/MLB-21...  3400000.0   \n",
       "\n",
       "                                       Titulo Imovel  \\\n",
       "0      Apartamento À Venda Em Rio De Janeiro - 46395   \n",
       "1  Cobertura Península Green Garden - Barra Da Ti...   \n",
       "2  Apartamento Com 3 Dormitórios À Venda, 170 M² ...   \n",
       "3  Apartamento Com 2 Dormitórios, 75 M² - Venda P...   \n",
       "4  Apartamento Duplex Com 3 Dormitórios À Venda, ...   \n",
       "\n",
       "                                            Endereço   Area  Numero de Quartos  \n",
       "0  Rua Henrique De Moura Costa, Barra Da Tijuca, ...  169.0                3.0  \n",
       "1  Avenida Das Acácias Da Península, Barra Da Tij...  203.0                3.0  \n",
       "2  Avenida Lúcio Costa, Barra Da Tijuca, Rio De J...  170.0                3.0  \n",
       "3  Barra Da Tijuca, Rio De Janeiro Zona Oeste, Ri...   75.0                2.0  \n",
       "4  Avenida Lúcio Costa, Barra Da Tijuca, Rio De J...  304.0                3.0  "
      ]
     },
     "execution_count": 51,
     "metadata": {},
     "output_type": "execute_result"
    }
   ],
   "source": [
    "df.head()"
   ]
  },
  {
   "cell_type": "code",
   "execution_count": 52,
   "id": "97c8a0ac-d100-40fd-8a62-675fa8d9050d",
   "metadata": {},
   "outputs": [],
   "source": [
    "df = df.dropna(axis=0)"
   ]
  },
  {
   "cell_type": "code",
   "execution_count": 53,
   "id": "358eff7e-47e2-4466-97ec-bc6dc9a6681f",
   "metadata": {},
   "outputs": [
    {
     "data": {
      "text/plain": [
       "Url                  0\n",
       "Preco                0\n",
       "Titulo Imovel        0\n",
       "Endereço             0\n",
       "Area                 0\n",
       "Numero de Quartos    0\n",
       "dtype: int64"
      ]
     },
     "execution_count": 53,
     "metadata": {},
     "output_type": "execute_result"
    }
   ],
   "source": [
    "df.isnull().sum()"
   ]
  },
  {
   "cell_type": "code",
   "execution_count": 54,
   "id": "a499564a-e2ed-402d-9cc9-46be506d9e01",
   "metadata": {},
   "outputs": [],
   "source": [
    "df['Numero de Quartos']=df['Numero de Quartos'].astype(int)"
   ]
  },
  {
   "cell_type": "code",
   "execution_count": 55,
   "id": "e9463716-1d4a-467b-816d-5295914362ee",
   "metadata": {},
   "outputs": [],
   "source": [
    "df['Preco']=df['Preco'].astype(int)"
   ]
  },
  {
   "cell_type": "code",
   "execution_count": 56,
   "id": "770ce3c7-dcad-47fc-9d7b-f27a99c15672",
   "metadata": {},
   "outputs": [],
   "source": [
    "df['Area']=df['Area'].astype(int)"
   ]
  },
  {
   "cell_type": "code",
   "execution_count": 57,
   "id": "4b1344ad-a508-499d-918c-fde15372ca9e",
   "metadata": {},
   "outputs": [
    {
     "data": {
      "text/html": [
       "<div>\n",
       "<style scoped>\n",
       "    .dataframe tbody tr th:only-of-type {\n",
       "        vertical-align: middle;\n",
       "    }\n",
       "\n",
       "    .dataframe tbody tr th {\n",
       "        vertical-align: top;\n",
       "    }\n",
       "\n",
       "    .dataframe thead th {\n",
       "        text-align: right;\n",
       "    }\n",
       "</style>\n",
       "<table border=\"1\" class=\"dataframe\">\n",
       "  <thead>\n",
       "    <tr style=\"text-align: right;\">\n",
       "      <th></th>\n",
       "      <th>index</th>\n",
       "      <th>Url</th>\n",
       "      <th>Preco</th>\n",
       "      <th>Titulo Imovel</th>\n",
       "      <th>Endereço</th>\n",
       "      <th>Area</th>\n",
       "      <th>Numero de Quartos</th>\n",
       "    </tr>\n",
       "  </thead>\n",
       "  <tbody>\n",
       "    <tr>\n",
       "      <th>0</th>\n",
       "      <td>0</td>\n",
       "      <td>https://apartamento.mercadolivre.com.br/MLB-21...</td>\n",
       "      <td>1900000</td>\n",
       "      <td>Apartamento À Venda Em Rio De Janeiro - 46395</td>\n",
       "      <td>Rua Henrique De Moura Costa, Barra Da Tijuca, ...</td>\n",
       "      <td>169</td>\n",
       "      <td>3</td>\n",
       "    </tr>\n",
       "    <tr>\n",
       "      <th>1</th>\n",
       "      <td>1</td>\n",
       "      <td>https://apartamento.mercadolivre.com.br/MLB-20...</td>\n",
       "      <td>1922800</td>\n",
       "      <td>Cobertura Península Green Garden - Barra Da Ti...</td>\n",
       "      <td>Avenida Das Acácias Da Península, Barra Da Tij...</td>\n",
       "      <td>203</td>\n",
       "      <td>3</td>\n",
       "    </tr>\n",
       "    <tr>\n",
       "      <th>2</th>\n",
       "      <td>2</td>\n",
       "      <td>https://apartamento.mercadolivre.com.br/MLB-19...</td>\n",
       "      <td>4130000</td>\n",
       "      <td>Apartamento Com 3 Dormitórios À Venda, 170 M² ...</td>\n",
       "      <td>Avenida Lúcio Costa, Barra Da Tijuca, Rio De J...</td>\n",
       "      <td>170</td>\n",
       "      <td>3</td>\n",
       "    </tr>\n",
       "    <tr>\n",
       "      <th>3</th>\n",
       "      <td>3</td>\n",
       "      <td>https://apartamento.mercadolivre.com.br/MLB-20...</td>\n",
       "      <td>1350000</td>\n",
       "      <td>Apartamento Com 2 Dormitórios, 75 M² - Venda P...</td>\n",
       "      <td>Barra Da Tijuca, Rio De Janeiro Zona Oeste, Ri...</td>\n",
       "      <td>75</td>\n",
       "      <td>2</td>\n",
       "    </tr>\n",
       "    <tr>\n",
       "      <th>4</th>\n",
       "      <td>4</td>\n",
       "      <td>https://apartamento.mercadolivre.com.br/MLB-21...</td>\n",
       "      <td>3400000</td>\n",
       "      <td>Apartamento Duplex Com 3 Dormitórios À Venda, ...</td>\n",
       "      <td>Avenida Lúcio Costa, Barra Da Tijuca, Rio De J...</td>\n",
       "      <td>304</td>\n",
       "      <td>3</td>\n",
       "    </tr>\n",
       "    <tr>\n",
       "      <th>...</th>\n",
       "      <td>...</td>\n",
       "      <td>...</td>\n",
       "      <td>...</td>\n",
       "      <td>...</td>\n",
       "      <td>...</td>\n",
       "      <td>...</td>\n",
       "      <td>...</td>\n",
       "    </tr>\n",
       "    <tr>\n",
       "      <th>1712</th>\n",
       "      <td>1877</td>\n",
       "      <td>https://apartamento.mercadolivre.com.br/MLB-19...</td>\n",
       "      <td>297200</td>\n",
       "      <td>Apartamento - Barra Da Tijuca - Ref: 393 - V-393</td>\n",
       "      <td>Embaixador Abelardo Bueno, Barra Da Tijuca, Ri...</td>\n",
       "      <td>27</td>\n",
       "      <td>0</td>\n",
       "    </tr>\n",
       "    <tr>\n",
       "      <th>1713</th>\n",
       "      <td>1878</td>\n",
       "      <td>https://apartamento.mercadolivre.com.br/MLB-19...</td>\n",
       "      <td>605000</td>\n",
       "      <td>Apartamento - Barra Da Tijuca - Ref: 455 - V-455</td>\n",
       "      <td>Embaixador Abelardo Bueno, Barra Da Tijuca, Ri...</td>\n",
       "      <td>77</td>\n",
       "      <td>2</td>\n",
       "    </tr>\n",
       "    <tr>\n",
       "      <th>1714</th>\n",
       "      <td>1879</td>\n",
       "      <td>https://apartamento.mercadolivre.com.br/MLB-19...</td>\n",
       "      <td>917000</td>\n",
       "      <td>Apartamento - Peninsula - Barra Da Tijuca - Re...</td>\n",
       "      <td>Acacias, Barra Da Tijuca, Rio De Janeiro Zona ...</td>\n",
       "      <td>73</td>\n",
       "      <td>2</td>\n",
       "    </tr>\n",
       "    <tr>\n",
       "      <th>1715</th>\n",
       "      <td>1880</td>\n",
       "      <td>https://apartamento.mercadolivre.com.br/MLB-19...</td>\n",
       "      <td>350000</td>\n",
       "      <td>Apartamento - Barra Da Tijuca - Ref: 561 - V-561</td>\n",
       "      <td>Das Americas, Barra Da Tijuca, Rio De Janeiro ...</td>\n",
       "      <td>24</td>\n",
       "      <td>0</td>\n",
       "    </tr>\n",
       "    <tr>\n",
       "      <th>1716</th>\n",
       "      <td>1881</td>\n",
       "      <td>https://apartamento.mercadolivre.com.br/MLB-19...</td>\n",
       "      <td>1805000</td>\n",
       "      <td>Apartamento - Peninsula - Barra Da Tijuca - Re...</td>\n",
       "      <td>Das Acacias, Barra Da Tijuca, Rio De Janeiro Z...</td>\n",
       "      <td>156</td>\n",
       "      <td>4</td>\n",
       "    </tr>\n",
       "  </tbody>\n",
       "</table>\n",
       "<p>1717 rows × 7 columns</p>\n",
       "</div>"
      ],
      "text/plain": [
       "      index                                                Url    Preco  \\\n",
       "0         0  https://apartamento.mercadolivre.com.br/MLB-21...  1900000   \n",
       "1         1  https://apartamento.mercadolivre.com.br/MLB-20...  1922800   \n",
       "2         2  https://apartamento.mercadolivre.com.br/MLB-19...  4130000   \n",
       "3         3  https://apartamento.mercadolivre.com.br/MLB-20...  1350000   \n",
       "4         4  https://apartamento.mercadolivre.com.br/MLB-21...  3400000   \n",
       "...     ...                                                ...      ...   \n",
       "1712   1877  https://apartamento.mercadolivre.com.br/MLB-19...   297200   \n",
       "1713   1878  https://apartamento.mercadolivre.com.br/MLB-19...   605000   \n",
       "1714   1879  https://apartamento.mercadolivre.com.br/MLB-19...   917000   \n",
       "1715   1880  https://apartamento.mercadolivre.com.br/MLB-19...   350000   \n",
       "1716   1881  https://apartamento.mercadolivre.com.br/MLB-19...  1805000   \n",
       "\n",
       "                                          Titulo Imovel  \\\n",
       "0         Apartamento À Venda Em Rio De Janeiro - 46395   \n",
       "1     Cobertura Península Green Garden - Barra Da Ti...   \n",
       "2     Apartamento Com 3 Dormitórios À Venda, 170 M² ...   \n",
       "3     Apartamento Com 2 Dormitórios, 75 M² - Venda P...   \n",
       "4     Apartamento Duplex Com 3 Dormitórios À Venda, ...   \n",
       "...                                                 ...   \n",
       "1712   Apartamento - Barra Da Tijuca - Ref: 393 - V-393   \n",
       "1713   Apartamento - Barra Da Tijuca - Ref: 455 - V-455   \n",
       "1714  Apartamento - Peninsula - Barra Da Tijuca - Re...   \n",
       "1715   Apartamento - Barra Da Tijuca - Ref: 561 - V-561   \n",
       "1716  Apartamento - Peninsula - Barra Da Tijuca - Re...   \n",
       "\n",
       "                                               Endereço  Area  \\\n",
       "0     Rua Henrique De Moura Costa, Barra Da Tijuca, ...   169   \n",
       "1     Avenida Das Acácias Da Península, Barra Da Tij...   203   \n",
       "2     Avenida Lúcio Costa, Barra Da Tijuca, Rio De J...   170   \n",
       "3     Barra Da Tijuca, Rio De Janeiro Zona Oeste, Ri...    75   \n",
       "4     Avenida Lúcio Costa, Barra Da Tijuca, Rio De J...   304   \n",
       "...                                                 ...   ...   \n",
       "1712  Embaixador Abelardo Bueno, Barra Da Tijuca, Ri...    27   \n",
       "1713  Embaixador Abelardo Bueno, Barra Da Tijuca, Ri...    77   \n",
       "1714  Acacias, Barra Da Tijuca, Rio De Janeiro Zona ...    73   \n",
       "1715  Das Americas, Barra Da Tijuca, Rio De Janeiro ...    24   \n",
       "1716  Das Acacias, Barra Da Tijuca, Rio De Janeiro Z...   156   \n",
       "\n",
       "      Numero de Quartos  \n",
       "0                     3  \n",
       "1                     3  \n",
       "2                     3  \n",
       "3                     2  \n",
       "4                     3  \n",
       "...                 ...  \n",
       "1712                  0  \n",
       "1713                  2  \n",
       "1714                  2  \n",
       "1715                  0  \n",
       "1716                  4  \n",
       "\n",
       "[1717 rows x 7 columns]"
      ]
     },
     "execution_count": 57,
     "metadata": {},
     "output_type": "execute_result"
    }
   ],
   "source": [
    "df.reset_index()"
   ]
  },
  {
   "cell_type": "code",
   "execution_count": 58,
   "id": "5f046f88-240c-47d1-bebc-928e796c3024",
   "metadata": {},
   "outputs": [],
   "source": [
    "df = df.reset_index(drop=True)"
   ]
  },
  {
   "cell_type": "code",
   "execution_count": 59,
   "id": "f9f0632f-e00c-41b3-8a41-1e4d2b61c36b",
   "metadata": {},
   "outputs": [
    {
     "name": "stdout",
     "output_type": "stream",
     "text": [
      "Url                  object\n",
      "Preco                 int32\n",
      "Titulo Imovel        object\n",
      "Endereço             object\n",
      "Area                  int32\n",
      "Numero de Quartos     int32\n",
      "dtype: object\n"
     ]
    }
   ],
   "source": [
    "print(df.dtypes)"
   ]
  },
  {
   "cell_type": "code",
   "execution_count": 77,
   "id": "0fe23ee0-8549-414c-a47e-8671c7695023",
   "metadata": {},
   "outputs": [],
   "source": [
    "df.to_csv(\"DF_ML_Barra.csv\")"
   ]
  },
  {
   "cell_type": "code",
   "execution_count": 78,
   "id": "1b9b1b91-cd94-4e50-b7e7-a24b342e684a",
   "metadata": {},
   "outputs": [],
   "source": [
    "df = pd.read_csv(\"DF_ML_Barra.csv\")"
   ]
  },
  {
   "cell_type": "code",
   "execution_count": 79,
   "id": "b4280680-6a4e-4aa5-91f7-760f056186fd",
   "metadata": {},
   "outputs": [],
   "source": [
    "df = df.drop(columns=['Unnamed: 0'])"
   ]
  },
  {
   "cell_type": "code",
   "execution_count": 80,
   "id": "ee1c0d46-056e-4b3f-ad32-c45ff5007035",
   "metadata": {},
   "outputs": [
    {
     "data": {
      "text/html": [
       "<div>\n",
       "<style scoped>\n",
       "    .dataframe tbody tr th:only-of-type {\n",
       "        vertical-align: middle;\n",
       "    }\n",
       "\n",
       "    .dataframe tbody tr th {\n",
       "        vertical-align: top;\n",
       "    }\n",
       "\n",
       "    .dataframe thead th {\n",
       "        text-align: right;\n",
       "    }\n",
       "</style>\n",
       "<table border=\"1\" class=\"dataframe\">\n",
       "  <thead>\n",
       "    <tr style=\"text-align: right;\">\n",
       "      <th></th>\n",
       "      <th>Unnamed: 0.1</th>\n",
       "      <th>Url</th>\n",
       "      <th>Preco</th>\n",
       "      <th>Titulo Imovel</th>\n",
       "      <th>Endereço</th>\n",
       "      <th>Area</th>\n",
       "      <th>Numero de Quartos</th>\n",
       "    </tr>\n",
       "  </thead>\n",
       "  <tbody>\n",
       "    <tr>\n",
       "      <th>0</th>\n",
       "      <td>0</td>\n",
       "      <td>https://apartamento.mercadolivre.com.br/MLB-21...</td>\n",
       "      <td>1900000</td>\n",
       "      <td>Apartamento À Venda Em Rio De Janeiro - 46395</td>\n",
       "      <td>Rua Henrique De Moura Costa, Barra Da Tijuca, ...</td>\n",
       "      <td>169</td>\n",
       "      <td>3</td>\n",
       "    </tr>\n",
       "    <tr>\n",
       "      <th>1</th>\n",
       "      <td>1</td>\n",
       "      <td>https://apartamento.mercadolivre.com.br/MLB-20...</td>\n",
       "      <td>1922800</td>\n",
       "      <td>Cobertura Península Green Garden - Barra Da Ti...</td>\n",
       "      <td>Avenida Das Acácias Da Península, Barra Da Tij...</td>\n",
       "      <td>203</td>\n",
       "      <td>3</td>\n",
       "    </tr>\n",
       "    <tr>\n",
       "      <th>2</th>\n",
       "      <td>2</td>\n",
       "      <td>https://apartamento.mercadolivre.com.br/MLB-19...</td>\n",
       "      <td>4130000</td>\n",
       "      <td>Apartamento Com 3 Dormitórios À Venda, 170 M² ...</td>\n",
       "      <td>Avenida Lúcio Costa, Barra Da Tijuca, Rio De J...</td>\n",
       "      <td>170</td>\n",
       "      <td>3</td>\n",
       "    </tr>\n",
       "    <tr>\n",
       "      <th>3</th>\n",
       "      <td>3</td>\n",
       "      <td>https://apartamento.mercadolivre.com.br/MLB-20...</td>\n",
       "      <td>1350000</td>\n",
       "      <td>Apartamento Com 2 Dormitórios, 75 M² - Venda P...</td>\n",
       "      <td>Barra Da Tijuca, Rio De Janeiro Zona Oeste, Ri...</td>\n",
       "      <td>75</td>\n",
       "      <td>2</td>\n",
       "    </tr>\n",
       "    <tr>\n",
       "      <th>4</th>\n",
       "      <td>4</td>\n",
       "      <td>https://apartamento.mercadolivre.com.br/MLB-21...</td>\n",
       "      <td>3400000</td>\n",
       "      <td>Apartamento Duplex Com 3 Dormitórios À Venda, ...</td>\n",
       "      <td>Avenida Lúcio Costa, Barra Da Tijuca, Rio De J...</td>\n",
       "      <td>304</td>\n",
       "      <td>3</td>\n",
       "    </tr>\n",
       "  </tbody>\n",
       "</table>\n",
       "</div>"
      ],
      "text/plain": [
       "   Unnamed: 0.1                                                Url    Preco  \\\n",
       "0             0  https://apartamento.mercadolivre.com.br/MLB-21...  1900000   \n",
       "1             1  https://apartamento.mercadolivre.com.br/MLB-20...  1922800   \n",
       "2             2  https://apartamento.mercadolivre.com.br/MLB-19...  4130000   \n",
       "3             3  https://apartamento.mercadolivre.com.br/MLB-20...  1350000   \n",
       "4             4  https://apartamento.mercadolivre.com.br/MLB-21...  3400000   \n",
       "\n",
       "                                       Titulo Imovel  \\\n",
       "0      Apartamento À Venda Em Rio De Janeiro - 46395   \n",
       "1  Cobertura Península Green Garden - Barra Da Ti...   \n",
       "2  Apartamento Com 3 Dormitórios À Venda, 170 M² ...   \n",
       "3  Apartamento Com 2 Dormitórios, 75 M² - Venda P...   \n",
       "4  Apartamento Duplex Com 3 Dormitórios À Venda, ...   \n",
       "\n",
       "                                            Endereço  Area  Numero de Quartos  \n",
       "0  Rua Henrique De Moura Costa, Barra Da Tijuca, ...   169                  3  \n",
       "1  Avenida Das Acácias Da Península, Barra Da Tij...   203                  3  \n",
       "2  Avenida Lúcio Costa, Barra Da Tijuca, Rio De J...   170                  3  \n",
       "3  Barra Da Tijuca, Rio De Janeiro Zona Oeste, Ri...    75                  2  \n",
       "4  Avenida Lúcio Costa, Barra Da Tijuca, Rio De J...   304                  3  "
      ]
     },
     "execution_count": 80,
     "metadata": {},
     "output_type": "execute_result"
    }
   ],
   "source": [
    "df.head()"
   ]
  },
  {
   "cell_type": "code",
   "execution_count": 81,
   "id": "cf32eb21-320f-452d-9598-ee25b8fe27af",
   "metadata": {},
   "outputs": [],
   "source": [
    "df = df.drop(columns=['Unnamed: 0.1'])"
   ]
  },
  {
   "cell_type": "code",
   "execution_count": 82,
   "id": "51751b1c-d434-4082-a79b-391bcf9e606a",
   "metadata": {},
   "outputs": [
    {
     "data": {
      "text/html": [
       "<div>\n",
       "<style scoped>\n",
       "    .dataframe tbody tr th:only-of-type {\n",
       "        vertical-align: middle;\n",
       "    }\n",
       "\n",
       "    .dataframe tbody tr th {\n",
       "        vertical-align: top;\n",
       "    }\n",
       "\n",
       "    .dataframe thead th {\n",
       "        text-align: right;\n",
       "    }\n",
       "</style>\n",
       "<table border=\"1\" class=\"dataframe\">\n",
       "  <thead>\n",
       "    <tr style=\"text-align: right;\">\n",
       "      <th></th>\n",
       "      <th>Url</th>\n",
       "      <th>Preco</th>\n",
       "      <th>Titulo Imovel</th>\n",
       "      <th>Endereço</th>\n",
       "      <th>Area</th>\n",
       "      <th>Numero de Quartos</th>\n",
       "    </tr>\n",
       "  </thead>\n",
       "  <tbody>\n",
       "    <tr>\n",
       "      <th>0</th>\n",
       "      <td>https://apartamento.mercadolivre.com.br/MLB-21...</td>\n",
       "      <td>1900000</td>\n",
       "      <td>Apartamento À Venda Em Rio De Janeiro - 46395</td>\n",
       "      <td>Rua Henrique De Moura Costa, Barra Da Tijuca, ...</td>\n",
       "      <td>169</td>\n",
       "      <td>3</td>\n",
       "    </tr>\n",
       "    <tr>\n",
       "      <th>1</th>\n",
       "      <td>https://apartamento.mercadolivre.com.br/MLB-20...</td>\n",
       "      <td>1922800</td>\n",
       "      <td>Cobertura Península Green Garden - Barra Da Ti...</td>\n",
       "      <td>Avenida Das Acácias Da Península, Barra Da Tij...</td>\n",
       "      <td>203</td>\n",
       "      <td>3</td>\n",
       "    </tr>\n",
       "    <tr>\n",
       "      <th>2</th>\n",
       "      <td>https://apartamento.mercadolivre.com.br/MLB-19...</td>\n",
       "      <td>4130000</td>\n",
       "      <td>Apartamento Com 3 Dormitórios À Venda, 170 M² ...</td>\n",
       "      <td>Avenida Lúcio Costa, Barra Da Tijuca, Rio De J...</td>\n",
       "      <td>170</td>\n",
       "      <td>3</td>\n",
       "    </tr>\n",
       "    <tr>\n",
       "      <th>3</th>\n",
       "      <td>https://apartamento.mercadolivre.com.br/MLB-20...</td>\n",
       "      <td>1350000</td>\n",
       "      <td>Apartamento Com 2 Dormitórios, 75 M² - Venda P...</td>\n",
       "      <td>Barra Da Tijuca, Rio De Janeiro Zona Oeste, Ri...</td>\n",
       "      <td>75</td>\n",
       "      <td>2</td>\n",
       "    </tr>\n",
       "    <tr>\n",
       "      <th>4</th>\n",
       "      <td>https://apartamento.mercadolivre.com.br/MLB-21...</td>\n",
       "      <td>3400000</td>\n",
       "      <td>Apartamento Duplex Com 3 Dormitórios À Venda, ...</td>\n",
       "      <td>Avenida Lúcio Costa, Barra Da Tijuca, Rio De J...</td>\n",
       "      <td>304</td>\n",
       "      <td>3</td>\n",
       "    </tr>\n",
       "  </tbody>\n",
       "</table>\n",
       "</div>"
      ],
      "text/plain": [
       "                                                 Url    Preco  \\\n",
       "0  https://apartamento.mercadolivre.com.br/MLB-21...  1900000   \n",
       "1  https://apartamento.mercadolivre.com.br/MLB-20...  1922800   \n",
       "2  https://apartamento.mercadolivre.com.br/MLB-19...  4130000   \n",
       "3  https://apartamento.mercadolivre.com.br/MLB-20...  1350000   \n",
       "4  https://apartamento.mercadolivre.com.br/MLB-21...  3400000   \n",
       "\n",
       "                                       Titulo Imovel  \\\n",
       "0      Apartamento À Venda Em Rio De Janeiro - 46395   \n",
       "1  Cobertura Península Green Garden - Barra Da Ti...   \n",
       "2  Apartamento Com 3 Dormitórios À Venda, 170 M² ...   \n",
       "3  Apartamento Com 2 Dormitórios, 75 M² - Venda P...   \n",
       "4  Apartamento Duplex Com 3 Dormitórios À Venda, ...   \n",
       "\n",
       "                                            Endereço  Area  Numero de Quartos  \n",
       "0  Rua Henrique De Moura Costa, Barra Da Tijuca, ...   169                  3  \n",
       "1  Avenida Das Acácias Da Península, Barra Da Tij...   203                  3  \n",
       "2  Avenida Lúcio Costa, Barra Da Tijuca, Rio De J...   170                  3  \n",
       "3  Barra Da Tijuca, Rio De Janeiro Zona Oeste, Ri...    75                  2  \n",
       "4  Avenida Lúcio Costa, Barra Da Tijuca, Rio De J...   304                  3  "
      ]
     },
     "execution_count": 82,
     "metadata": {},
     "output_type": "execute_result"
    }
   ],
   "source": [
    "df.head()"
   ]
  },
  {
   "cell_type": "code",
   "execution_count": 83,
   "id": "6ed0596c-0a0d-49bf-9f1d-27ebfca94ece",
   "metadata": {},
   "outputs": [],
   "source": [
    "df.to_csv(\"DF_ML_Barra.csv\")"
   ]
  },
  {
   "cell_type": "code",
   "execution_count": 70,
   "id": "cf47cc10-4360-4e8c-8e4d-5715c3461d57",
   "metadata": {},
   "outputs": [
    {
     "data": {
      "text/plain": [
       "5"
      ]
     },
     "execution_count": 70,
     "metadata": {},
     "output_type": "execute_result"
    }
   ],
   "source": [
    "df['Numero de Quartos'].max()"
   ]
  },
  {
   "cell_type": "code",
   "execution_count": 71,
   "id": "5bb119a3-ccc1-41ee-8738-2829d337e531",
   "metadata": {},
   "outputs": [
    {
     "data": {
      "text/plain": [
       "436"
      ]
     },
     "execution_count": 71,
     "metadata": {},
     "output_type": "execute_result"
    }
   ],
   "source": [
    "df['Area'].max()"
   ]
  },
  {
   "cell_type": "code",
   "execution_count": 72,
   "id": "b788a19c-5dea-44d4-aed1-579b5106e98a",
   "metadata": {},
   "outputs": [
    {
     "data": {
      "text/plain": [
       "22"
      ]
     },
     "execution_count": 72,
     "metadata": {},
     "output_type": "execute_result"
    }
   ],
   "source": [
    "df['Area'].min()"
   ]
  },
  {
   "cell_type": "code",
   "execution_count": null,
   "id": "a646307c-22a2-4474-a648-067f00b87eba",
   "metadata": {},
   "outputs": [],
   "source": []
  }
 ],
 "metadata": {
  "kernelspec": {
   "display_name": "Python 3 (ipykernel)",
   "language": "python",
   "name": "python3"
  },
  "language_info": {
   "codemirror_mode": {
    "name": "ipython",
    "version": 3
   },
   "file_extension": ".py",
   "mimetype": "text/x-python",
   "name": "python",
   "nbconvert_exporter": "python",
   "pygments_lexer": "ipython3",
   "version": "3.9.7"
  }
 },
 "nbformat": 4,
 "nbformat_minor": 5
}
